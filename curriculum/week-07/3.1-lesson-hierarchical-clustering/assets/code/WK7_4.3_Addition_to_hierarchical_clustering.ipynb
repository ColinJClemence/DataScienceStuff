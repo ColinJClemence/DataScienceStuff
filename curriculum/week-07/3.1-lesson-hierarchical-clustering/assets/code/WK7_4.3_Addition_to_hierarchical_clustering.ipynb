{
 "cells": [
  {
   "cell_type": "code",
   "execution_count": 202,
   "metadata": {
    "collapsed": true
   },
   "outputs": [],
   "source": [
    "#Distances that are useful for clustering alogrithms and beyond"
   ]
  },
  {
   "cell_type": "markdown",
   "metadata": {},
   "source": [
    "How good is the clustering that we just performed? There is an index called Cross Cophenetic Correlation Coefficient (CP) that shows the goodness of fit of our similar to the Correlation Coefficient regression. "
   ]
  },
  {
   "cell_type": "code",
   "execution_count": 1,
   "metadata": {
    "collapsed": true
   },
   "outputs": [],
   "source": [
    "from matplotlib import pyplot as plt\n",
    "from scipy.cluster.hierarchy import dendrogram, linkage, cophenet\n",
    "from scipy.spatial.distance import pdist\n",
    "\n",
    "import numpy as np\n",
    "import pandas as pd\n",
    "import os\n",
    "from scipy.cluster.hierarchy import fcluster, cophenet\n",
    "\n",
    "%matplotlib inline"
   ]
  },
  {
   "cell_type": "code",
   "execution_count": 2,
   "metadata": {
    "collapsed": false
   },
   "outputs": [
    {
     "name": "stdout",
     "output_type": "stream",
     "text": [
      "(16, 13)\n"
     ]
    },
    {
     "data": {
      "text/html": [
       "<div>\n",
       "<table border=\"1\" class=\"dataframe\">\n",
       "  <thead>\n",
       "    <tr style=\"text-align: right;\">\n",
       "      <th></th>\n",
       "      <th>country</th>\n",
       "      <th>finnish</th>\n",
       "      <th>swedish</th>\n",
       "      <th>danish</th>\n",
       "      <th>norwegian</th>\n",
       "      <th>english</th>\n",
       "      <th>german</th>\n",
       "      <th>dutch</th>\n",
       "      <th>flemish</th>\n",
       "      <th>french</th>\n",
       "      <th>italian</th>\n",
       "      <th>spanish</th>\n",
       "      <th>portuguese</th>\n",
       "    </tr>\n",
       "  </thead>\n",
       "  <tbody>\n",
       "    <tr>\n",
       "      <th>0</th>\n",
       "      <td>1</td>\n",
       "      <td>0</td>\n",
       "      <td>0</td>\n",
       "      <td>0</td>\n",
       "      <td>0</td>\n",
       "      <td>21</td>\n",
       "      <td>100</td>\n",
       "      <td>2</td>\n",
       "      <td>1</td>\n",
       "      <td>10</td>\n",
       "      <td>2</td>\n",
       "      <td>1</td>\n",
       "      <td>0</td>\n",
       "    </tr>\n",
       "    <tr>\n",
       "      <th>1</th>\n",
       "      <td>2</td>\n",
       "      <td>0</td>\n",
       "      <td>0</td>\n",
       "      <td>0</td>\n",
       "      <td>0</td>\n",
       "      <td>5</td>\n",
       "      <td>3</td>\n",
       "      <td>0</td>\n",
       "      <td>0</td>\n",
       "      <td>11</td>\n",
       "      <td>100</td>\n",
       "      <td>1</td>\n",
       "      <td>0</td>\n",
       "    </tr>\n",
       "    <tr>\n",
       "      <th>2</th>\n",
       "      <td>3</td>\n",
       "      <td>0</td>\n",
       "      <td>2</td>\n",
       "      <td>3</td>\n",
       "      <td>0</td>\n",
       "      <td>10</td>\n",
       "      <td>7</td>\n",
       "      <td>1</td>\n",
       "      <td>1</td>\n",
       "      <td>100</td>\n",
       "      <td>12</td>\n",
       "      <td>7</td>\n",
       "      <td>1</td>\n",
       "    </tr>\n",
       "    <tr>\n",
       "      <th>3</th>\n",
       "      <td>4</td>\n",
       "      <td>0</td>\n",
       "      <td>0</td>\n",
       "      <td>0</td>\n",
       "      <td>0</td>\n",
       "      <td>41</td>\n",
       "      <td>47</td>\n",
       "      <td>100</td>\n",
       "      <td>100</td>\n",
       "      <td>16</td>\n",
       "      <td>2</td>\n",
       "      <td>2</td>\n",
       "      <td>0</td>\n",
       "    </tr>\n",
       "    <tr>\n",
       "      <th>4</th>\n",
       "      <td>5</td>\n",
       "      <td>0</td>\n",
       "      <td>0</td>\n",
       "      <td>0</td>\n",
       "      <td>0</td>\n",
       "      <td>14</td>\n",
       "      <td>15</td>\n",
       "      <td>0</td>\n",
       "      <td>59</td>\n",
       "      <td>44</td>\n",
       "      <td>2</td>\n",
       "      <td>1</td>\n",
       "      <td>0</td>\n",
       "    </tr>\n",
       "  </tbody>\n",
       "</table>\n",
       "</div>"
      ],
      "text/plain": [
       "   country  finnish  swedish  danish  norwegian  english  german  dutch  \\\n",
       "0        1        0        0       0          0       21     100      2   \n",
       "1        2        0        0       0          0        5       3      0   \n",
       "2        3        0        2       3          0       10       7      1   \n",
       "3        4        0        0       0          0       41      47    100   \n",
       "4        5        0        0       0          0       14      15      0   \n",
       "\n",
       "   flemish  french  italian  spanish  portuguese  \n",
       "0        1      10        2        1           0  \n",
       "1        0      11      100        1           0  \n",
       "2        1     100       12        7           1  \n",
       "3      100      16        2        2           0  \n",
       "4       59      44        2        1           0  "
      ]
     },
     "execution_count": 2,
     "metadata": {},
     "output_type": "execute_result"
    }
   ],
   "source": [
    "# load the data\n",
    "file_link = 'https://raw.githubusercontent.com/generalassembly-studio/DSI-course-materials/master/curriculum/04-lessons/week-07/3.2-lesson/assets/datasets/lang.csv?token=AGijO7zv8EQCEhdrPQLMgcLNUvLn4ugZks5XmG79wA%3D%3D'\n",
    "lang = pd.read_csv(file_link)\n",
    "print lang.shape\n",
    "lang.head()"
   ]
  },
  {
   "cell_type": "code",
   "execution_count": 62,
   "metadata": {
    "collapsed": false
   },
   "outputs": [
    {
     "name": "stdout",
     "output_type": "stream",
     "text": [
      "(15, 13)\n",
      "[[  2   0   0   0   0   5   3   0   0  11 100   1   0]\n",
      " [  3   0   2   3   0  10   7   1   1 100  12   7   1]\n",
      " [  4   0   0   0   0  41  47 100 100  16   2   2   0]\n",
      " [  5   0   0   0   0  14  15   0  59  44   2   1   0]\n",
      " [  6   0   0   0   0  31 100   4   1  92  10   0   0]\n",
      " [  7   0   0   0   0 100   7   0   0  15   3   2   0]\n",
      " [  8   0   0   0   0   9   0   0   0  10   1   2 100]\n",
      " [  9   0   0   0   0  18 100   1   1   4   2   1   0]\n",
      " [ 10   0   0   0   0  21  83   1   2  64  23   3   1]\n",
      " [ 11   5 100  10  11  43  25   0   0   6   1   1   0]\n",
      " [ 12   0  22 100  20  38  36   1   1  10   3   1   0]\n",
      " [ 13   0  25  19 100  34  19   0   0   4   1   0   1]\n",
      " [ 14 100  23   0   0  12  11   0   0   2   1   0   0]\n",
      " [ 15   0   0   0   0   5   1   0   0  11   2 100   0]\n",
      " [ 16   0   0   0   0 100   1   0   0   2   0   0   0]]\n"
     ]
    }
   ],
   "source": [
    "# Now, let's convert our data to a matrix to pass to the clustering algorithm - the matrix makes it easier for our algorithm to compute distance:\n",
    "X = lang[1:].as_matrix(columns=None)\n",
    "print X.shape\n",
    "print X"
   ]
  },
  {
   "cell_type": "code",
   "execution_count": 116,
   "metadata": {
    "collapsed": false
   },
   "outputs": [],
   "source": [
    "Z = linkage(X, method='single', metric='euclidean') "
   ]
  },
  {
   "cell_type": "markdown",
   "metadata": {},
   "source": [
    "Printing out Z, which shows step by step the implementation of agglormative clustering, with choosen distance and method. We can observe the increase of distances."
   ]
  },
  {
   "cell_type": "code",
   "execution_count": 117,
   "metadata": {
    "collapsed": false
   },
   "outputs": [
    {
     "data": {
      "text/plain": [
       "array([[   5.        ,   14.        ,   17.29161647,    2.        ],\n",
       "       [   4.        ,    8.        ,   37.12142239,    2.        ],\n",
       "       [   7.        ,   16.        ,   65.9241989 ,    3.        ],\n",
       "       [   1.        ,    3.        ,   82.06704576,    2.        ],\n",
       "       [  17.        ,   18.        ,   85.98255637,    5.        ],\n",
       "       [  15.        ,   19.        ,  108.57255639,    7.        ],\n",
       "       [  10.        ,   11.        ,  115.41230437,    2.        ],\n",
       "       [   9.        ,   21.        ,  117.38398528,    3.        ],\n",
       "       [  20.        ,   22.        ,  117.98728745,   10.        ],\n",
       "       [   2.        ,   23.        ,  119.24764149,   11.        ],\n",
       "       [   0.        ,   24.        ,  120.0333287 ,   12.        ],\n",
       "       [  13.        ,   25.        ,  121.44134387,   13.        ],\n",
       "       [   6.        ,   26.        ,  122.05736356,   14.        ],\n",
       "       [  12.        ,   27.        ,  126.00396819,   15.        ]])"
      ]
     },
     "execution_count": 117,
     "metadata": {},
     "output_type": "execute_result"
    }
   ],
   "source": [
    "Z"
   ]
  },
  {
   "cell_type": "code",
   "execution_count": 118,
   "metadata": {
    "collapsed": false
   },
   "outputs": [
    {
     "data": {
      "text/plain": [
       "array([  4.        ,   8.        ,  37.12142239,   2.        ])"
      ]
     },
     "execution_count": 118,
     "metadata": {},
     "output_type": "execute_result"
    }
   ],
   "source": [
    "Z[1] # print the ith iteration of points being merged \n",
    "     # [idx1, idx2, dist, sample_count]\n",
    "     # Below: in the 2nd iteration, points 4 & 8 were merged,\n",
    "        #which had a distance of 37.12142239 and formed a cluster with \n",
    "        #total of 2 points"
   ]
  },
  {
   "cell_type": "markdown",
   "metadata": {},
   "source": [
    "Cophrenetic correlation coefficient compares (correlates) the actual pairwise distances of all data samples to those implied by the hierarchical clustering. The closer the value is to 1, the better the clustering preserves the original distances.\n",
    "\n",
    "The linkage() function will use that method and metric to calculate the distances of the clusters (starting with your n individual samples (aka data points) as singleton clusters)) and in each iteration will merge the two clusters which have the smallest distance according the selected method and metric."
   ]
  },
  {
   "cell_type": "code",
   "execution_count": 119,
   "metadata": {
    "collapsed": false
   },
   "outputs": [],
   "source": [
    "c, coph_dists = cophenet(Z, pdist(X))"
   ]
  },
  {
   "cell_type": "code",
   "execution_count": 138,
   "metadata": {
    "collapsed": false
   },
   "outputs": [
    {
     "data": {
      "text/plain": [
       "0.78821339657848055"
      ]
     },
     "execution_count": 138,
     "metadata": {},
     "output_type": "execute_result"
    }
   ],
   "source": [
    "c #Cophenetic Correlation Coefficient is simply correlation betwee\n",
    "  #distance matrix and cophentic matrix Corr(cophrenetic_dist, correlation_dist)"
   ]
  },
  {
   "cell_type": "markdown",
   "metadata": {},
   "source": [
    "Condensed cophenetic distnce matrix in condense form. The ij entry is the cophentic distance btw original i and j observations"
   ]
  },
  {
   "cell_type": "code",
   "execution_count": 139,
   "metadata": {
    "collapsed": false
   },
   "outputs": [
    {
     "data": {
      "text/plain": [
       "array([ 120.0333287 ,  120.0333287 ,  120.0333287 ,  120.0333287 ,\n",
       "        120.0333287 ,  122.05736356,  120.0333287 ,  120.0333287 ,\n",
       "        120.0333287 ,  120.0333287 ,  120.0333287 ,  126.00396819,\n",
       "        121.44134387,  120.0333287 ,  119.24764149,   82.06704576,\n",
       "         85.98255637,  108.57255639,  122.05736356,   85.98255637,\n",
       "         85.98255637,  117.98728745,  117.98728745,  117.98728745,\n",
       "        126.00396819,  121.44134387,  108.57255639,  119.24764149,\n",
       "        119.24764149,  119.24764149,  122.05736356,  119.24764149,\n",
       "        119.24764149,  119.24764149,  119.24764149,  119.24764149,\n",
       "        126.00396819,  121.44134387,  119.24764149,   85.98255637,\n",
       "        108.57255639,  122.05736356,   85.98255637,   85.98255637,\n",
       "        117.98728745,  117.98728745,  117.98728745,  126.00396819,\n",
       "        121.44134387,  108.57255639,  108.57255639,  122.05736356,\n",
       "         65.9241989 ,   37.12142239,  117.98728745,  117.98728745,\n",
       "        117.98728745,  126.00396819,  121.44134387,  108.57255639,\n",
       "        122.05736356,  108.57255639,  108.57255639,  117.98728745,\n",
       "        117.98728745,  117.98728745,  126.00396819,  121.44134387,\n",
       "         17.29161647,  122.05736356,  122.05736356,  122.05736356,\n",
       "        122.05736356,  122.05736356,  126.00396819,  122.05736356,\n",
       "        122.05736356,   65.9241989 ,  117.98728745,  117.98728745,\n",
       "        117.98728745,  126.00396819,  121.44134387,  108.57255639,\n",
       "        117.98728745,  117.98728745,  117.98728745,  126.00396819,\n",
       "        121.44134387,  108.57255639,  117.38398528,  117.38398528,\n",
       "        126.00396819,  121.44134387,  117.98728745,  115.41230437,\n",
       "        126.00396819,  121.44134387,  117.98728745,  126.00396819,\n",
       "        121.44134387,  117.98728745,  126.00396819,  126.00396819,\n",
       "        121.44134387])"
      ]
     },
     "execution_count": 139,
     "metadata": {},
     "output_type": "execute_result"
    }
   ],
   "source": [
    "coph_dists"
   ]
  },
  {
   "cell_type": "markdown",
   "metadata": {},
   "source": [
    "Let's look at dendrogram again and add some notations"
   ]
  },
  {
   "cell_type": "code",
   "execution_count": 140,
   "metadata": {
    "collapsed": false
   },
   "outputs": [
    {
     "data": {
      "image/png": "[encoded data removed]",
      "text/plain": [
       "<matplotlib.figure.Figure at 0x7f13106f1950>"
      ]
     },
     "metadata": {},
     "output_type": "display_data"
    }
   ],
   "source": [
    "# now let's make our dendrogram\n",
    "plt.title('Dendrogram')\n",
    "plt.xlabel('Index Numbers')\n",
    "plt.ylabel('Distance')\n",
    "dendrogram(\n",
    "    Z,\n",
    "    leaf_rotation=90.,  \n",
    "    leaf_font_size=8.,\n",
    ")\n",
    "plt.show()"
   ]
  },
  {
   "cell_type": "markdown",
   "metadata": {},
   "source": [
    "Starting from each label at the bottom, you can see a vertical line up to a horizontal line. The height of that horizontal line tells you about the distance at which this label was merged into another label or cluster. You can find that other cluster by following the other vertical line down again. If you don't encounter another horizontal line, it was just merged with the other label you reach, otherwise it was merged into another cluster that was formed earlier.\n",
    "\n",
    "Summarizing:\n",
    "\n",
    "- horizontal lines are cluster merges\n",
    "- vertical lines tell you which clusters/labels were part of merge forming that new cluster\n",
    "- heights of the horizontal lines tell you about the distance that needed to be \"bridged\" to form the new cluster\n",
    "- You can also see that from distances > 170 up there's a huge jump of the distance to the final merge at a distance of approx. 210. \n",
    "    - large jumps in distances can indicate merges that shouldn't be merged\n",
    "\n",
    "Let's have a look at the distances of the last 4 merges:"
   ]
  },
  {
   "cell_type": "code",
   "execution_count": 141,
   "metadata": {
    "collapsed": false
   },
   "outputs": [
    {
     "data": {
      "text/plain": [
       "array([[   0.        ,   24.        ,  120.0333287 ,   12.        ],\n",
       "       [  13.        ,   25.        ,  121.44134387,   13.        ],\n",
       "       [   6.        ,   26.        ,  122.05736356,   14.        ],\n",
       "       [  12.        ,   27.        ,  126.00396819,   15.        ]])"
      ]
     },
     "execution_count": 141,
     "metadata": {},
     "output_type": "execute_result"
    }
   ],
   "source": [
    "Z[-4:]"
   ]
  },
  {
   "cell_type": "code",
   "execution_count": 142,
   "metadata": {
    "collapsed": false
   },
   "outputs": [
    {
     "data": {
      "image/png": "[encoded data removed]",
      "text/plain": [
       "<matplotlib.figure.Figure at 0x7f130fc8f690>"
      ]
     },
     "metadata": {},
     "output_type": "display_data"
    }
   ],
   "source": [
    "#Trunc the dendrogram - shows the last 9 merges in the graph\n",
    "\n",
    "plt.title('Hierarchical Clustering Dendrogram (truncated)')\n",
    "plt.xlabel('sample index')\n",
    "plt.ylabel('distance')\n",
    "dendrogram(\n",
    "    Z,\n",
    "    truncate_mode='lastp',  # show only the last p merged clusters\n",
    "    p=9,  # show only the last p merged clusters\n",
    "    show_leaf_counts=False,  # otherwise numbers in brackets are counts\n",
    "    leaf_rotation=90.,\n",
    "    leaf_font_size=12.,\n",
    "    show_contracted=True,  # to get a distribution impression in truncated branches\n",
    ")\n",
    "plt.show()"
   ]
  },
  {
   "cell_type": "markdown",
   "metadata": {},
   "source": [
    "Let's add distance annotations to each merge point"
   ]
  },
  {
   "cell_type": "code",
   "execution_count": 143,
   "metadata": {
    "collapsed": true
   },
   "outputs": [],
   "source": [
    "def fancy_dendrogram(*args, **kwargs):\n",
    "    max_d = kwargs.pop('max_d', None)\n",
    "    if max_d and 'color_threshold' not in kwargs:\n",
    "        kwargs['color_threshold'] = max_d\n",
    "    annotate_above = kwargs.pop('annotate_above', 0)\n",
    "\n",
    "    ddata = dendrogram(*args, **kwargs)\n",
    "\n",
    "    if not kwargs.get('no_plot', False):\n",
    "        plt.title('Hierarchical Clustering Dendrogram (truncated)')\n",
    "        plt.xlabel('sample index or (cluster size)')\n",
    "        plt.ylabel('distance')\n",
    "        for i, d, c in zip(ddata['icoord'], ddata['dcoord'], ddata['color_list']):\n",
    "            x = 0.5 * sum(i[1:3])\n",
    "            y = d[1]\n",
    "            if y > annotate_above:\n",
    "                plt.plot(x, y, 'o', c=c)\n",
    "                plt.annotate(\"%.3g\" % y, (x, y), xytext=(0, -5),\n",
    "                             textcoords='offset points',\n",
    "                             va='top', ha='center')\n",
    "        if max_d:\n",
    "            plt.axhline(y=max_d, c='k')\n",
    "    return ddata"
   ]
  },
  {
   "cell_type": "code",
   "execution_count": 144,
   "metadata": {
    "collapsed": false
   },
   "outputs": [
    {
     "data": {
      "image/png": "[encoded data removed]",
      "text/plain": [
       "<matplotlib.figure.Figure at 0x7f130fc09990>"
      ]
     },
     "metadata": {},
     "output_type": "display_data"
    }
   ],
   "source": [
    "fancy_dendrogram(\n",
    "    Z,\n",
    "    truncate_mode='lastp',\n",
    "    p=12,\n",
    "    leaf_rotation=90.,\n",
    "    leaf_font_size=12.,\n",
    "    show_contracted=True,\n",
    "    annotate_above=10,  # useful in small plots so annotations don't overlap\n",
    "    max_d=150  # plot a horizontal cut-off line\n",
    ")\n",
    "plt.show()"
   ]
  },
  {
   "cell_type": "markdown",
   "metadata": {},
   "source": [
    "The idea behind calculation of cophrenetic coefficient! "
   ]
  },
  {
   "cell_type": "code",
   "execution_count": 162,
   "metadata": {
    "collapsed": false
   },
   "outputs": [],
   "source": [
    "from scipy.spatial import distance\n",
    "import numpy as np\n",
    "import math \n",
    "from scipy.stats.stats import pearsonr   \n",
    "\n",
    "\n",
    "sq_form_dist = distance.squareform(pdist(X))\n",
    "sq_form_coph = distance.squareform(coph_dists)\n",
    "\n",
    "#Create a matrix of distances\n",
    "new = np.empty([X.shape[0], X.shape[1]])\n",
    "for i in range(0, X.shape[0]):\n",
    "    for j in range(0, X.shape[1]):\n",
    "        new[i,j] = math.hypot(i-j, j-i)\n",
    "        "
   ]
  },
  {
   "cell_type": "code",
   "execution_count": 163,
   "metadata": {
    "collapsed": false
   },
   "outputs": [],
   "source": [
    "corr_dist_coph = np.empty([X.shape[0], 2])\n",
    "\n",
    "#loops through matrix to line up \n",
    "for i in range(0, X.shape[0]):\n",
    "    for j in range(0, X.shape[1]):\n",
    "        if j < i:\n",
    "            corr_dist_coph[i, 0] = sq_form_dist[i,j]\n",
    "            corr_dist_coph[i, 1] = sq_form_coph[i,j]"
   ]
  },
  {
   "cell_type": "code",
   "execution_count": 164,
   "metadata": {
    "collapsed": false
   },
   "outputs": [
    {
     "data": {
      "text/plain": [
       "array([[ 1.        ,  0.93633395],\n",
       "       [ 0.93633395,  1.        ]])"
      ]
     },
     "execution_count": 164,
     "metadata": {},
     "output_type": "execute_result"
    }
   ],
   "source": [
    "np.corrcoef(corr_dist_coph[:, 0], corr_dist_coph[:, 1])"
   ]
  },
  {
   "cell_type": "code",
   "execution_count": 165,
   "metadata": {
    "collapsed": false
   },
   "outputs": [
    {
     "data": {
      "text/plain": [
       "array([[   0.        ,    0.        ],\n",
       "       [ 125.53485572,  120.0333287 ],\n",
       "       [ 171.34468186,  119.24764149],\n",
       "       [ 119.24764149,  119.24764149],\n",
       "       [ 115.16944039,   85.98255637],\n",
       "       [ 139.31977605,  108.57255639],\n",
       "       [ 135.49907749,  122.05736356],\n",
       "       [ 141.85203559,  122.05736356],\n",
       "       [  65.9241989 ,   65.9241989 ],\n",
       "       [ 133.9888055 ,  117.98728745],\n",
       "       [ 120.24558204,  117.38398528],\n",
       "       [ 115.41230437,  115.41230437],\n",
       "       [ 144.63402089,  126.00396819],\n",
       "       [ 144.08677941,  126.00396819],\n",
       "       [ 135.56548233,  126.00396819]])"
      ]
     },
     "execution_count": 165,
     "metadata": {},
     "output_type": "execute_result"
    }
   ],
   "source": [
    "corr_dist_coph"
   ]
  },
  {
   "cell_type": "code",
   "execution_count": 157,
   "metadata": {
    "collapsed": false
   },
   "outputs": [
    {
     "data": {
      "text/plain": [
       "(0.86332270501383646, 3.3876906205342224e-05)"
      ]
     },
     "execution_count": 157,
     "metadata": {},
     "output_type": "execute_result"
    }
   ],
   "source": [
    "pearsonr(corr_dist_coph[:, 0], corr_dist_coph[:, 1])"
   ]
  },
  {
   "cell_type": "markdown",
   "metadata": {},
   "source": [
    "# Jaccard Distance\n",
    "\n",
    "Don't look at the functions below. Write your own function to create a jaccard distance measure\n",
    "\n",
    "|A $\\cup$ B| / | A $\\cap$ B| \n",
    "Intersection divided by union\n",
    "\n",
    "But here is an example of calculating jaccard with sklearn function "
   ]
  },
  {
   "cell_type": "code",
   "execution_count": 200,
   "metadata": {
    "collapsed": false
   },
   "outputs": [
    {
     "name": "stdout",
     "output_type": "stream",
     "text": [
      "0.5\n",
      "2\n"
     ]
    }
   ],
   "source": [
    "import numpy as np\n",
    "from sklearn.metrics import jaccard_similarity_score\n",
    "y_pred = [0, 2, 1, 3]\n",
    "y_true = [0, 1, 2, 3]\n",
    "print jaccard_similarity_score(y_true, y_pred)\n",
    "print jaccard_similarity_score(y_true, y_pred, normalize=False)"
   ]
  },
  {
   "cell_type": "code",
   "execution_count": null,
   "metadata": {
    "collapsed": true
   },
   "outputs": [],
   "source": []
  },
  {
   "cell_type": "code",
   "execution_count": null,
   "metadata": {
    "collapsed": true
   },
   "outputs": [],
   "source": []
  },
  {
   "cell_type": "code",
   "execution_count": null,
   "metadata": {
    "collapsed": true
   },
   "outputs": [],
   "source": []
  },
  {
   "cell_type": "code",
   "execution_count": null,
   "metadata": {
    "collapsed": true
   },
   "outputs": [],
   "source": []
  },
  {
   "cell_type": "code",
   "execution_count": 201,
   "metadata": {
    "collapsed": false
   },
   "outputs": [
    {
     "data": {
      "text/plain": [
       "0.125"
      ]
     },
     "execution_count": 201,
     "metadata": {},
     "output_type": "execute_result"
    }
   ],
   "source": [
    "def DistJaccard(a,  b):\n",
    "    str1 = set(a.split(' '))\n",
    "    str2 = set(b.split(' '))\n",
    "        \n",
    "    return float(len(str1 & str2)) / len(str1 | str2)\n",
    "\n",
    "DistJaccard(\"Hello my name is Slim Shady\", \"Hello Good afternoon\")"
   ]
  },
  {
   "cell_type": "code",
   "execution_count": 197,
   "metadata": {
    "collapsed": true
   },
   "outputs": [],
   "source": [
    "def jaccard_set(a_str,b_str):\n",
    "    a=a_str.split()\n",
    "    b=b_str.split()\n",
    "    union = list(set(a+b))\n",
    "    intersection = list(set(a) - (set(a)-set(b)))\n",
    "    print \"Union - %s\" % union\n",
    "    print \"Intersection - %s\" % intersection\n",
    "    jaccard_coeff = float(len(intersection))/len(union)\n",
    "    print \"Jaccard Coefficient is = %f \" % jaccard_coeff"
   ]
  },
  {
   "cell_type": "code",
   "execution_count": 198,
   "metadata": {
    "collapsed": false
   },
   "outputs": [
    {
     "name": "stdout",
     "output_type": "stream",
     "text": [
      "Union - ['Good', 'name', 'is', 'afternoon', 'my', 'Hello']\n",
      "Intersection - ['Hello']\n",
      "Jaccard Coefficient is = 0.166667 \n"
     ]
    }
   ],
   "source": [
    "jaccard_set(\"Hello my name is\", \"Hello Good afternoon\")"
   ]
  },
  {
   "cell_type": "code",
   "execution_count": null,
   "metadata": {
    "collapsed": true
   },
   "outputs": [],
   "source": []
  }
 ],
 "metadata": {
  "kernelspec": {
   "display_name": "Python 2",
   "language": "python",
   "name": "python2"
  },
  "language_info": {
   "codemirror_mode": {
    "name": "ipython",
    "version": 2
   },
   "file_extension": ".py",
   "mimetype": "text/x-python",
   "name": "python",
   "nbconvert_exporter": "python",
   "pygments_lexer": "ipython2",
   "version": "2.7.11"
  }
 },
 "nbformat": 4,
 "nbformat_minor": 0
}
