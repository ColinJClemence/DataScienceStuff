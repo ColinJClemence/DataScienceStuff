{
 "cells": [
  {
   "cell_type": "markdown",
   "metadata": {},
   "source": [
    "# Wisconsin Breast Cancer Study\n",
    "## Dataset\n",
    "- [Here](https://s3-us-west-2.amazonaws.com/ga-dat-2015-suneel/datasets/breast-cancer.csv) is the dataset.\n",
    "- [Here](https://archive.ics.uci.edu/ml/machine-learning-databases/breast-cancer-wisconsin/wdbc.names) is a description of the data. Ignore column 0 as it is merely the ID of a patient record."
   ]
  },
  {
   "cell_type": "markdown",
   "metadata": {},
   "source": [
    "## 1. Read in the data"
   ]
  },
  {
   "cell_type": "code",
   "execution_count": 2,
   "metadata": {
    "collapsed": false
   },
   "outputs": [],
   "source": [
    "# LOAD DATASET INTO PYTHON ENVIRONMENT\n"
   ]
  },
  {
   "cell_type": "code",
   "execution_count": 3,
   "metadata": {
    "collapsed": false
   },
   "outputs": [],
   "source": [
    "# VERIFY THAT DATASET IS OF PROPER DIMENSION\n"
   ]
  },
  {
   "cell_type": "markdown",
   "metadata": {},
   "source": [
    "## 2. Separate the data into feature and target."
   ]
  },
  {
   "cell_type": "code",
   "execution_count": 4,
   "metadata": {
    "collapsed": false
   },
   "outputs": [],
   "source": [
    "# INITIAL FEATURE WRANGLING AND PREPROCESSING\n",
    "# COLUMN 0 IS NOT RELEVANT, COLUMN 1 IS y, THE REST COMPRISE THE FEATURE MATRIX X\n",
    "# CREATE BINARY FACTORS FOR THE y FOR THE LOGISTIC REGRESSION PREPARATION\n",
    "\n"
   ]
  },
  {
   "cell_type": "markdown",
   "metadata": {},
   "source": [
    "## 3. Create Logistic Regression and evaluate using cross_val_score and 5 folds.\n",
    "- What is the mean accuracy?\n",
    "- What is the standard deviation of accuracy?"
   ]
  },
  {
   "cell_type": "code",
   "execution_count": 5,
   "metadata": {
    "collapsed": false
   },
   "outputs": [],
   "source": [
    "# CREATE MODEL (LOGISTIC REGRESSION CONSISTENT WITH ACTUAL STUDY) AND EVALUATE USING CROSS_VAL_SCORE AND 5 FOLDS\n",
    "\n"
   ]
  },
  {
   "cell_type": "markdown",
   "metadata": {},
   "source": [
    "## 4. Get a classification report to identify type 1, type 2 errors.\n",
    "- Use train_test_split to run your model once, with a test size of 0.33\n",
    "- Make predictions on the test set\n",
    "- Compare the predictions to the answers to determine the classification report"
   ]
  },
  {
   "cell_type": "code",
   "execution_count": 6,
   "metadata": {
    "collapsed": false
   },
   "outputs": [],
   "source": [
    "# DIVIDE DATASET INTO SEPARATE TRAINING DATASET - TEST SIZE SET TO 0.33 - TRAIN_TEST_SPLIT\n",
    "\n"
   ]
  },
  {
   "cell_type": "markdown",
   "metadata": {},
   "source": [
    "## 5. Scale the data and see if that improves the score."
   ]
  },
  {
   "cell_type": "code",
   "execution_count": 7,
   "metadata": {
    "collapsed": false
   },
   "outputs": [],
   "source": [
    "# STANDARDIZE COLUMNS OF THE DATASET BEFORE FEEDING THEM TO THE LINEAR CLASSIFIER\n",
    "# CREATE PIPELINE FOR TWO-STEP PROCESS\n"
   ]
  },
  {
   "cell_type": "markdown",
   "metadata": {},
   "source": [
    "## 6. Tune the model using automated parametric grid search via LogisticRegressionCV. Explain your intution behind what is being tuned."
   ]
  },
  {
   "cell_type": "code",
   "execution_count": 8,
   "metadata": {
    "collapsed": false
   },
   "outputs": [],
   "source": [
    "# TUNE THE MODEL USING AUTOMATED GRID SEARCH VIA 'LogisticRegressionCV' - NOTE GridSearchCV has been implemented\n",
    "# below since LogisticRegressionCV has been deprecated\n",
    "\n"
   ]
  },
  {
   "cell_type": "markdown",
   "metadata": {},
   "source": [
    "### Q: What should we do to prevent overfitting so our model generalizes well to the test data?"
   ]
  },
  {
   "cell_type": "code",
   "execution_count": null,
   "metadata": {
    "collapsed": true
   },
   "outputs": [],
   "source": []
  },
  {
   "cell_type": "markdown",
   "metadata": {},
   "source": [
    "### Q: What was the best C?"
   ]
  },
  {
   "cell_type": "code",
   "execution_count": null,
   "metadata": {
    "collapsed": true
   },
   "outputs": [],
   "source": []
  },
  {
   "cell_type": "markdown",
   "metadata": {},
   "source": [
    "## 8. Provide a one-sentence summary for a non-technical audience. Then provide a longer paragraph-length technical explanation."
   ]
  },
  {
   "cell_type": "code",
   "execution_count": null,
   "metadata": {
    "collapsed": true
   },
   "outputs": [],
   "source": []
  },
  {
   "cell_type": "code",
   "execution_count": 64,
   "metadata": {
    "collapsed": false
   },
   "outputs": [
    {
     "data": {
      "text/latex": [
       "$$J(w) =  \\sum_{i=1}^n\\left[ \\left( -y^{(i)}*log(\\phi(z^{(i)}) ) - (1-y^{(i)}) \\right) * log(1 - \\phi(z^{(i)})) \\right] + \\frac{\\lambda}{2} \\parallel w  \\parallel ^2$$"
      ],
      "text/plain": [
       "<IPython.core.display.Math object>"
      ]
     },
     "metadata": {},
     "output_type": "display_data"
    },
    {
     "data": {
      "text/latex": [
       "$$ C = \\frac{1}{\\lambda}$$"
      ],
      "text/plain": [
       "<IPython.core.display.Math object>"
      ]
     },
     "metadata": {},
     "output_type": "display_data"
    }
   ],
   "source": [
    "from IPython.display import display, Math, Latex\n",
    "display(Math(r'J(w) =  \\sum_{i=1}^n\\left[ \\left( -y^{(i)}*log(\\phi(z^{(i)}) ) - (1-y^{(i)}) \\right) * log(1 - \\phi(z^{(i)})) \\right] + \\frac{\\lambda}{2} \\parallel w  \\parallel ^2'))\n",
    "display(Math(r' C = \\frac{1}{\\lambda}'))\n"
   ]
  }
 ],
 "metadata": {
  "kernelspec": {
   "display_name": "Python 2",
   "language": "python",
   "name": "python2"
  },
  "language_info": {
   "codemirror_mode": {
    "name": "ipython",
    "version": 2
   },
   "file_extension": ".py",
   "mimetype": "text/x-python",
   "name": "python",
   "nbconvert_exporter": "python",
   "pygments_lexer": "ipython2",
   "version": "2.7.11"
  },
  "widgets": {
   "state": {},
   "version": "1.1.2"
  }
 },
 "nbformat": 4,
 "nbformat_minor": 0
}
