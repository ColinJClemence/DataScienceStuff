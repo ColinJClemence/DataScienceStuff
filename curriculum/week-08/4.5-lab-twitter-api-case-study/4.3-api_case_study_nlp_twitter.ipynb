{
 "cells": [
  {
   "cell_type": "markdown",
   "metadata": {},
   "source": [
    "\n",
    "```\n",
    "---\n",
    "title: API Case Study with Twitter\n",
    "type:  lesson + lab + demo\n",
    "duration: \"1:25\"\n",
    "creator:\n",
    "    name: David Yerrington\n",
    "    city: SF\n",
    "---\n",
    "```\n",
    "<img src=\"https://ga-dash.s3.amazonaws.com/production/assets/logo-9f88ae6c9c3871690e33280fcf557f33.png\" style=\"float: left; margin: 10px\">\n",
    "\n",
    "#  API Demo / Lab + NLP\n",
    "Week 8 | 3.3\n",
    "\n",
    "\n",
    "<img src=\"https://snag.gy/RNAEgP.jpg\" width=\"600\">\n",
    "\n",
    "Can we correctly identify which of these two old men tweeted what?\n"
   ]
  },
  {
   "cell_type": "markdown",
   "metadata": {},
   "source": [
    "## (5 mins) Opening \n",
    "\n",
    "Today we are going to attempt to classify wether a tweet comes from Trump, or Sanders.  We are going to:\n",
    "\n",
    "- Create a developer account on Twitter\n",
    "- Create a method to pull a list of tweets from the Twitter API\n",
    "- Perform proper preprocessing on our text\n",
    "- Engineer sentiment feature in our dataset using TextBlob\n",
    "- Explore supervised classification techniques\n"
   ]
  },
  {
   "cell_type": "markdown",
   "metadata": {},
   "source": [
    "## Twitter API Developer Registration\n",
    "\n",
    "If you haven't registered a Twitter account yet, this is a requirement in order to have a \"developer\" account.\n",
    "\n",
    "[Twitter Rest API](https://dev.twitter.com/rest/public)\n",
    "\n"
   ]
  },
  {
   "cell_type": "markdown",
   "metadata": {},
   "source": [
    "## Create an \"App\"\n",
    "\n",
    "![](https://snag.gy/HPBQbJ.jpg)\n",
    "\n",
    "We now will now go to Twitter and register an \"app\" [apps.twitter.com](https://apps.twitter.com/), just like we did for Foursquare.  After we set up our app, we will only need to reference the cooresponding keys Twitter generates for our app.  These are the keys that we will use with our application to communicate with the Twitter API."
   ]
  },
  {
   "cell_type": "markdown",
   "metadata": {},
   "source": [
    "## Install Python Twitter API library\n",
    "\n",
    "Someone was nice enough to build a nice libary for us in Python that we only need to plug in our keys and start collecting data with.  The library we will be using is provided by [Python Twitter Tools](http://mike.verdone.ca/twitter/).\n",
    "\n",
    "To install it, just run the next frame (there is no conda package)."
   ]
  },
  {
   "cell_type": "code",
   "execution_count": 1,
   "metadata": {
    "collapsed": false
   },
   "outputs": [
    {
     "name": "stdout",
     "output_type": "stream",
     "text": [
      "Downloading/unpacking twitter\n",
      "  Downloading twitter-1.17.1-py2.py3-none-any.whl (55kB): 55kB downloaded\n",
      "Requirement already satisfied (use --upgrade to upgrade): python-twitter in /Users/powchow/.virtualenvs/gatech-ml/lib/python2.7/site-packages\n",
      "Requirement already satisfied (use --upgrade to upgrade): future in /Users/powchow/.virtualenvs/gatech-ml/lib/python2.7/site-packages (from python-twitter)\n",
      "Requirement already satisfied (use --upgrade to upgrade): requests in /Users/powchow/.virtualenvs/gatech-ml/lib/python2.7/site-packages (from python-twitter)\n",
      "Requirement already satisfied (use --upgrade to upgrade): requests-oauthlib in /Users/powchow/.virtualenvs/gatech-ml/lib/python2.7/site-packages (from python-twitter)\n",
      "Installing collected packages: twitter\n",
      "Successfully installed twitter\n",
      "Cleaning up...\n"
     ]
    }
   ],
   "source": [
    "!pip install twitter python-twitter"
   ]
  },
  {
   "cell_type": "markdown",
   "metadata": {},
   "source": [
    "## Some Boring Twitter Rules\n",
    "\n",
    "Twitter says they will rate limit your requests:\n",
    "\n",
    ">When using application-only authentication, rate limits are determined globally for the entire application. If a method allows for 15 requests per rate limit window, then it allows you to make 15 requests per window — on behalf of your application. This limit is considered completely separately from per-user limits. https://dev.twitter.com/rest/public/rate-limiting\n",
    "\n",
    "Here's a quick overview of what Twitter says are \"the rulez\":\n",
    "\n",
    "![](https://snag.gy/yJ6vIH.jpg)\n"
   ]
  },
  {
   "cell_type": "markdown",
   "metadata": {},
   "source": [
    "## About those Keys: OAuth Review\n",
    "\n",
    "![](https://g.twimg.com/dev/documentation/image/appauth_0.png)"
   ]
  },
  {
   "cell_type": "markdown",
   "metadata": {},
   "source": [
    "## What's going on here?  Take a minute.."
   ]
  },
  {
   "cell_type": "markdown",
   "metadata": {},
   "source": [
    "## Our Application Keys\n",
    "\n",
    "Take note of our application keys that we will be using with our little application that will be connecting to Twitter and mining Tweets from the official Bernie Sanders and Donald Trump twitter accounts.\n",
    "\n",
    "![](https://snag.gy/H1djQK.jpg)"
   ]
  },
  {
   "cell_type": "markdown",
   "metadata": {},
   "source": [
    "## Tweet Miner Class Setup\n",
    "\n",
    "The following code is meant to get us up and running with connectivity to twitter, and the ability to make requests and easily transform the JSON responses to DataFrames.  We will be using object oriented Python in order to organize our code.  We may go into review since this was a topic we covered earlier in the class but we can review it during the lab for those who want to know more about it.\n",
    "\n",
    "\n",
    "> \"request_limit\" is used in this class to limit the number of tweets that are pulled per instance request.  Setting it to something lower until you've worked the bugs out of your request, and captured the data you want, is essential to avoiding any rate limit blocks.\n",
    "\n",
    "#### Key Setup\n",
    "\n",
    "- **consumer_key** - Find this in your app page under the \"Keys and Access Tokens\"\n",
    "- **consumer_secret** - Right under **consumer_key** in the \"Keys and Access Tokens\" tab\n",
    "- **access_token_key** - You will need to click the \"generate tokens\" button to get this\n",
    "- **access_token_secret** - Also available after \"generate tokens\" is pressed\n"
   ]
  },
  {
   "cell_type": "markdown",
   "metadata": {},
   "source": [
    "###Remember to create a \"twitter_user_keys.py\" in the same directory. Store a json with all your information from above: \n",
    "\n",
    "twitter_keys ={\n",
    "'consumer_key': '',\n",
    "'consumer_secret': '',\n",
    "'access_token_key ':'',\n",
    "'access_token_secret ':''\n",
    "}"
   ]
  },
  {
   "cell_type": "code",
   "execution_count": 2,
   "metadata": {
    "collapsed": false
   },
   "outputs": [],
   "source": [
    "#!cat twitter_user_keys.py"
   ]
  },
  {
   "cell_type": "code",
   "execution_count": 3,
   "metadata": {
    "collapsed": false
   },
   "outputs": [
    {
     "name": "stdout",
     "output_type": "stream",
     "text": [
      "“Lack of Big Data Analytics Agility Hobbles Healthcare Orgs” by @YvesMulkers https://t.co/PhesKHgNzD &lt;not 100% sure\n",
      "RT @Newmanity_fr: Bon billet du @CNRS qui revient sur quelques confusions courantes sur le contrôle de nos données https://t.co/szOwODADPI…\n",
      "LivBlends renames itself Replenish &amp; gives us a first look at it futuristic smoothie machine https://t.co/3v1RG2YNkM https://t.co/asINibHeq7\n",
      "Pratchett's writing is sceptical and fiercely anti-Disney. How will it translate on screen? https://t.co/9jyaKyDJXz https://t.co/y7yo4KHeEy\n",
      "RT @AP: Lady Gaga to put on invite-only show at the Democratic National Convention. https://t.co/LIpx1OKrqr\n",
      "RT @googlepolitics: Tonight search interest in “voter registration” spiked +190% to the highest point since the end of the primaries https:…\n",
      "“History tells us what may happen next with Brexit &amp; Trump” by Tobias Stone https://t.co/zijNSBwT4V\n",
      "RT @AJEnglish: Scenes of carnage as ISIL-claimed blasts rock Syria's Qamishli https://t.co/2shQ1I7Y5g https://t.co/yKgdNh1PuX\n",
      "RT @vicenews: Two Brazilian fighter jets collide during a security exercise for the Olympics https://t.co/6cCGdJM1wD https://t.co/dl8esxdPHN\n",
      "Mom and Pop online businesses now get the chance to infuse their operations with the power of #DataScience https://t.co/8Vy21R1G3b\n"
     ]
    }
   ],
   "source": [
    "import tweepy\n",
    "from tweepy import OAuthHandler\n",
    "import twitter_user_keys as tk #create this file in your current directory\n",
    "\n",
    "consumer_key = tk.twitter_keys['consumer_key']\n",
    "consumer_secret = tk.twitter_keys['consumer_secret']\n",
    "access_token = tk.twitter_keys['access_token_key']\n",
    "access_secret = tk.twitter_keys['access_token_secret']\n",
    "\n",
    "#twitter_keys['access_token_secret'], twitter_keys['access_token_key'], twitter_keys['consumer_key'], twitter_keys['consumer_secret']))\n",
    "\n",
    "auth = OAuthHandler(consumer_key, consumer_secret)\n",
    "auth.set_access_token(access_token, access_secret)\n",
    " \n",
    "api = tweepy.API(auth)\n",
    "\n",
    "#check that I am accessing twitter through conencted twitter account\n",
    "for status in tweepy.Cursor(api.home_timeline).items(10):\n",
    "    # Process a single status\n",
    "    print(status.text) \n"
   ]
  },
  {
   "cell_type": "code",
   "execution_count": 4,
   "metadata": {
    "collapsed": false
   },
   "outputs": [],
   "source": [
    "import twitter\n",
    "import re, datetime, pandas as pd\n",
    "import json\n",
    "import twitter_user_keys as tk #create this file in your current directory\n",
    "\n",
    "class twitterminer():\n",
    "\n",
    "    request_limit   =   20    \n",
    "    api             =   False\n",
    "    data            =   []\n",
    "    \n",
    "    twitter_keys = {\n",
    "        'consumer_key':        tk.twitter_keys['consumer_key'],\n",
    "        'consumer_secret':     tk.twitter_keys['consumer_secret'],\n",
    "        'access_token_key':    tk.twitter_keys['access_token_key'],\n",
    "        'access_token_secret': tk.twitter_keys['access_token_secret']\n",
    "    }\n",
    "\n",
    "    def __init__(self,  request_limit = 20):\n",
    "        \n",
    "        self.request_limit = request_limit\n",
    "        \n",
    "        # This sets the twitter API object for use internall within the class\n",
    "        self.set_api()\n",
    "        \n",
    "    def set_api(self):\n",
    "        \n",
    "        auth = OAuthHandler(self.twitter_keys['consumer_key'], self.twitter_keys['consumer_secret'])\n",
    "        auth.set_access_token(self.twitter_keys['access_token_key'], self.twitter_keys['access_token_secret'])\n",
    "\n",
    "        self.api = tweepy.API(auth)\n",
    "\n",
    "    def mine_user_tweets(self, user=\"dyerrington\", mine_rewteets=False):\n",
    "\n",
    "        statuses   =   self.api.user_timeline(screen_name=user, count=self.request_limit)\n",
    "        data       =   []\n",
    "        \n",
    "        for item in statuses:\n",
    "\n",
    "            mined = {\n",
    "                'tweet_id': item.id,\n",
    "                'handle': item.user.name,\n",
    "                'retweet_count': item.retweet_count,\n",
    "                'text': item.text,\n",
    "                'mined_at': datetime.datetime.now(),\n",
    "                'created_at': item.created_at,\n",
    "            }\n",
    "            \n",
    "            data.append(mined)\n",
    "            \n",
    "        return data"
   ]
  },
  {
   "cell_type": "markdown",
   "metadata": {},
   "source": [
    "## Does anyone remember how we \"instantiate\" a new instance of this class?\n",
    "\n",
    "**Bonus bonus** How do we call the method to *mine_user_tweets()*?"
   ]
  },
  {
   "cell_type": "code",
   "execution_count": 5,
   "metadata": {
    "collapsed": false
   },
   "outputs": [],
   "source": [
    "# twitter ids:  realDonaldTrump, berniesanders\n",
    "# Let's test this out here.."
   ]
  },
  {
   "cell_type": "markdown",
   "metadata": {
    "collapsed": true
   },
   "source": [
    "##  Now we create some training data\n",
    "\n",
    "We will have to munge a little bit in order to get our \"mined\" data from the Twitter API.  \n",
    "\n",
    " - Mine Trump Tweets\n",
    " - Create DataFrame\n",
    " - Mine Sanders Tweets\n",
    " - Append to DataFrame"
   ]
  },
  {
   "cell_type": "code",
   "execution_count": 6,
   "metadata": {
    "collapsed": false
   },
   "outputs": [],
   "source": [
    "# we only need to \"instantiate\" once.  Then we can call mine_user_tweets as much as we want.\n",
    "miner = twitterminer(request_limit=100)\n",
    "trump_tweets = miner.mine_user_tweets(\"realDonaldTrump\")"
   ]
  },
  {
   "cell_type": "code",
   "execution_count": 7,
   "metadata": {
    "collapsed": false
   },
   "outputs": [
    {
     "name": "stdout",
     "output_type": "stream",
     "text": [
      "<type 'dict'>\n",
      "{'handle': u'Donald J. Trump', 'mined_at': datetime.datetime(2016, 7, 28, 0, 14, 5, 273398), 'created_at': datetime.datetime(2016, 7, 28, 4, 0, 23), 'tweet_id': 758512401629192192, 'text': u'\"@trumplican2016: @realDonaldTrump @DavidWohl stay the course mr trump your message is resonating with the PEOPLE\"', 'retweet_count': 2701}\n"
     ]
    }
   ],
   "source": [
    "print type(trump_tweets[0])\n",
    "print trump_tweets[0]\n",
    "# parsed = json.load(trump_tweets)\n",
    "# print json.dumps(parsed, indent=4, sort_keys=True)"
   ]
  },
  {
   "cell_type": "code",
   "execution_count": 8,
   "metadata": {
    "collapsed": false
   },
   "outputs": [
    {
     "data": {
      "text/html": [
       "<div>\n",
       "<table border=\"1\" class=\"dataframe\">\n",
       "  <thead>\n",
       "    <tr style=\"text-align: right;\">\n",
       "      <th></th>\n",
       "      <th>created_at</th>\n",
       "      <th>handle</th>\n",
       "      <th>mined_at</th>\n",
       "      <th>retweet_count</th>\n",
       "      <th>text</th>\n",
       "      <th>tweet_id</th>\n",
       "    </tr>\n",
       "  </thead>\n",
       "  <tbody>\n",
       "    <tr>\n",
       "      <th>0</th>\n",
       "      <td>2016-07-28 04:00:23</td>\n",
       "      <td>Donald J. Trump</td>\n",
       "      <td>2016-07-28 00:14:05.273398</td>\n",
       "      <td>2701</td>\n",
       "      <td>\"@trumplican2016: @realDonaldTrump @DavidWohl ...</td>\n",
       "      <td>758512401629192192</td>\n",
       "    </tr>\n",
       "    <tr>\n",
       "      <th>1</th>\n",
       "      <td>2016-07-28 03:56:47</td>\n",
       "      <td>Donald J. Trump</td>\n",
       "      <td>2016-07-28 00:14:05.273407</td>\n",
       "      <td>3283</td>\n",
       "      <td>\"@DavidWohl: Barack is offended that @realDona...</td>\n",
       "      <td>758511494669664256</td>\n",
       "    </tr>\n",
       "    <tr>\n",
       "      <th>2</th>\n",
       "      <td>2016-07-28 02:42:13</td>\n",
       "      <td>Donald J. Trump</td>\n",
       "      <td>2016-07-28 00:14:05.273410</td>\n",
       "      <td>9583</td>\n",
       "      <td>Our country does not feel 'great already' to t...</td>\n",
       "      <td>758492727583576064</td>\n",
       "    </tr>\n",
       "    <tr>\n",
       "      <th>3</th>\n",
       "      <td>2016-07-28 02:39:07</td>\n",
       "      <td>Donald J. Trump</td>\n",
       "      <td>2016-07-28 00:14:05.273412</td>\n",
       "      <td>11009</td>\n",
       "      <td>Shooting deaths of police officers up 78% this...</td>\n",
       "      <td>758491947409481728</td>\n",
       "    </tr>\n",
       "    <tr>\n",
       "      <th>4</th>\n",
       "      <td>2016-07-28 00:01:31</td>\n",
       "      <td>Donald J. Trump</td>\n",
       "      <td>2016-07-28 00:14:05.273415</td>\n",
       "      <td>3176</td>\n",
       "      <td>Join me live in Toledo, Ohio!\\n#MakeAmericaGre...</td>\n",
       "      <td>758452289376022529</td>\n",
       "    </tr>\n",
       "    <tr>\n",
       "      <th>5</th>\n",
       "      <td>2016-07-27 22:01:40</td>\n",
       "      <td>Donald J. Trump</td>\n",
       "      <td>2016-07-28 00:14:05.273418</td>\n",
       "      <td>14638</td>\n",
       "      <td>#CrookedHillary https://t.co/lwi9gqDEHE</td>\n",
       "      <td>758422125254471680</td>\n",
       "    </tr>\n",
       "    <tr>\n",
       "      <th>6</th>\n",
       "      <td>2016-07-27 21:58:43</td>\n",
       "      <td>Donald J. Trump</td>\n",
       "      <td>2016-07-28 00:14:05.273422</td>\n",
       "      <td>4439</td>\n",
       "      <td>Thank you Pennsylvania!\\n#MakeAmericaGreatAgai...</td>\n",
       "      <td>758421383063961604</td>\n",
       "    </tr>\n",
       "    <tr>\n",
       "      <th>7</th>\n",
       "      <td>2016-07-27 19:15:42</td>\n",
       "      <td>Donald J. Trump</td>\n",
       "      <td>2016-07-28 00:14:05.273425</td>\n",
       "      <td>13199</td>\n",
       "      <td>Thank you to our amazing law enforcement offic...</td>\n",
       "      <td>758380358874247168</td>\n",
       "    </tr>\n",
       "    <tr>\n",
       "      <th>8</th>\n",
       "      <td>2016-07-27 18:23:14</td>\n",
       "      <td>Donald J. Trump</td>\n",
       "      <td>2016-07-28 00:14:05.273427</td>\n",
       "      <td>5653</td>\n",
       "      <td>\"Trump right: Illegal families crossing border...</td>\n",
       "      <td>758367154232320000</td>\n",
       "    </tr>\n",
       "    <tr>\n",
       "      <th>9</th>\n",
       "      <td>2016-07-27 17:16:56</td>\n",
       "      <td>Donald J. Trump</td>\n",
       "      <td>2016-07-28 00:14:05.273430</td>\n",
       "      <td>12312</td>\n",
       "      <td>Great new poll - thank you!\\n#MakeAmericaGreat...</td>\n",
       "      <td>758350470402408449</td>\n",
       "    </tr>\n",
       "  </tbody>\n",
       "</table>\n",
       "</div>"
      ],
      "text/plain": [
       "           created_at           handle                   mined_at  \\\n",
       "0 2016-07-28 04:00:23  Donald J. Trump 2016-07-28 00:14:05.273398   \n",
       "1 2016-07-28 03:56:47  Donald J. Trump 2016-07-28 00:14:05.273407   \n",
       "2 2016-07-28 02:42:13  Donald J. Trump 2016-07-28 00:14:05.273410   \n",
       "3 2016-07-28 02:39:07  Donald J. Trump 2016-07-28 00:14:05.273412   \n",
       "4 2016-07-28 00:01:31  Donald J. Trump 2016-07-28 00:14:05.273415   \n",
       "5 2016-07-27 22:01:40  Donald J. Trump 2016-07-28 00:14:05.273418   \n",
       "6 2016-07-27 21:58:43  Donald J. Trump 2016-07-28 00:14:05.273422   \n",
       "7 2016-07-27 19:15:42  Donald J. Trump 2016-07-28 00:14:05.273425   \n",
       "8 2016-07-27 18:23:14  Donald J. Trump 2016-07-28 00:14:05.273427   \n",
       "9 2016-07-27 17:16:56  Donald J. Trump 2016-07-28 00:14:05.273430   \n",
       "\n",
       "   retweet_count                                               text  \\\n",
       "0           2701  \"@trumplican2016: @realDonaldTrump @DavidWohl ...   \n",
       "1           3283  \"@DavidWohl: Barack is offended that @realDona...   \n",
       "2           9583  Our country does not feel 'great already' to t...   \n",
       "3          11009  Shooting deaths of police officers up 78% this...   \n",
       "4           3176  Join me live in Toledo, Ohio!\\n#MakeAmericaGre...   \n",
       "5          14638            #CrookedHillary https://t.co/lwi9gqDEHE   \n",
       "6           4439  Thank you Pennsylvania!\\n#MakeAmericaGreatAgai...   \n",
       "7          13199  Thank you to our amazing law enforcement offic...   \n",
       "8           5653  \"Trump right: Illegal families crossing border...   \n",
       "9          12312  Great new poll - thank you!\\n#MakeAmericaGreat...   \n",
       "\n",
       "             tweet_id  \n",
       "0  758512401629192192  \n",
       "1  758511494669664256  \n",
       "2  758492727583576064  \n",
       "3  758491947409481728  \n",
       "4  758452289376022529  \n",
       "5  758422125254471680  \n",
       "6  758421383063961604  \n",
       "7  758380358874247168  \n",
       "8  758367154232320000  \n",
       "9  758350470402408449  "
      ]
     },
     "execution_count": 8,
     "metadata": {},
     "output_type": "execute_result"
    }
   ],
   "source": [
    "trump_df = pd.DataFrame(trump_tweets)\n",
    "trump_df.head(10)"
   ]
  },
  {
   "cell_type": "markdown",
   "metadata": {},
   "source": [
    "## Any interesting ngrams going on with Trump?"
   ]
  },
  {
   "cell_type": "code",
   "execution_count": 9,
   "metadata": {
    "collapsed": false
   },
   "outputs": [
    {
     "data": {
      "text/plain": [
       "[(u'https co', 31),\n",
       " (u'crooked hillary', 18),\n",
       " (u'bernie sanders', 11),\n",
       " (u'hillary clinton', 9),\n",
       " (u'thank you', 6),\n",
       " (u'makeamericagreatagain https', 6),\n",
       " (u'to the', 6),\n",
       " (u'of the', 6),\n",
       " (u'tim kaine', 5),\n",
       " (u'trumppence16 https', 5)]"
      ]
     },
     "execution_count": 9,
     "metadata": {},
     "output_type": "execute_result"
    }
   ],
   "source": [
    "from sklearn.feature_extraction.text import TfidfVectorizer\n",
    "from collections import Counter\n",
    "\n",
    "# We can use the TfidfVectorizer to find ngrams for us\n",
    "vect = TfidfVectorizer(ngram_range=(2,2))\n",
    "\n",
    "# Pulls all of trumps tweet text's into one giant string\n",
    "summaries = \"\".join(trump_df['text'])\n",
    "ngrams_summaries = vect.build_analyzer()(summaries)\n",
    "\n",
    "Counter(ngrams_summaries).most_common(10)"
   ]
  },
  {
   "cell_type": "markdown",
   "metadata": {},
   "source": [
    "## (10 mins) Try this exercize with Bernie Sanders.."
   ]
  },
  {
   "cell_type": "code",
   "execution_count": 10,
   "metadata": {
    "collapsed": true
   },
   "outputs": [],
   "source": [
    "sanders_tweets = miner.mine_user_tweets(\"berniesanders\")"
   ]
  },
  {
   "cell_type": "code",
   "execution_count": 11,
   "metadata": {
    "collapsed": true
   },
   "outputs": [],
   "source": [
    "all_tweets = pd.DataFrame(trump_tweets + sanders_tweets)"
   ]
  },
  {
   "cell_type": "code",
   "execution_count": 13,
   "metadata": {
    "collapsed": false
   },
   "outputs": [
    {
     "data": {
      "text/html": [
       "<div>\n",
       "<table border=\"1\" class=\"dataframe\">\n",
       "  <thead>\n",
       "    <tr style=\"text-align: right;\">\n",
       "      <th></th>\n",
       "      <th>created_at</th>\n",
       "      <th>handle</th>\n",
       "      <th>mined_at</th>\n",
       "      <th>retweet_count</th>\n",
       "      <th>text</th>\n",
       "      <th>tweet_id</th>\n",
       "    </tr>\n",
       "  </thead>\n",
       "  <tbody>\n",
       "    <tr>\n",
       "      <th>0</th>\n",
       "      <td>2016-07-28 04:00:23</td>\n",
       "      <td>Donald J. Trump</td>\n",
       "      <td>2016-07-28 00:14:05.273398</td>\n",
       "      <td>2701</td>\n",
       "      <td>\"@trumplican2016: @realDonaldTrump @DavidWohl ...</td>\n",
       "      <td>758512401629192192</td>\n",
       "    </tr>\n",
       "    <tr>\n",
       "      <th>1</th>\n",
       "      <td>2016-07-28 03:56:47</td>\n",
       "      <td>Donald J. Trump</td>\n",
       "      <td>2016-07-28 00:14:05.273407</td>\n",
       "      <td>3283</td>\n",
       "      <td>\"@DavidWohl: Barack is offended that @realDona...</td>\n",
       "      <td>758511494669664256</td>\n",
       "    </tr>\n",
       "    <tr>\n",
       "      <th>2</th>\n",
       "      <td>2016-07-28 02:42:13</td>\n",
       "      <td>Donald J. Trump</td>\n",
       "      <td>2016-07-28 00:14:05.273410</td>\n",
       "      <td>9583</td>\n",
       "      <td>Our country does not feel 'great already' to t...</td>\n",
       "      <td>758492727583576064</td>\n",
       "    </tr>\n",
       "    <tr>\n",
       "      <th>3</th>\n",
       "      <td>2016-07-28 02:39:07</td>\n",
       "      <td>Donald J. Trump</td>\n",
       "      <td>2016-07-28 00:14:05.273412</td>\n",
       "      <td>11009</td>\n",
       "      <td>Shooting deaths of police officers up 78% this...</td>\n",
       "      <td>758491947409481728</td>\n",
       "    </tr>\n",
       "    <tr>\n",
       "      <th>4</th>\n",
       "      <td>2016-07-28 00:01:31</td>\n",
       "      <td>Donald J. Trump</td>\n",
       "      <td>2016-07-28 00:14:05.273415</td>\n",
       "      <td>3176</td>\n",
       "      <td>Join me live in Toledo, Ohio!\\n#MakeAmericaGre...</td>\n",
       "      <td>758452289376022529</td>\n",
       "    </tr>\n",
       "  </tbody>\n",
       "</table>\n",
       "</div>"
      ],
      "text/plain": [
       "           created_at           handle                   mined_at  \\\n",
       "0 2016-07-28 04:00:23  Donald J. Trump 2016-07-28 00:14:05.273398   \n",
       "1 2016-07-28 03:56:47  Donald J. Trump 2016-07-28 00:14:05.273407   \n",
       "2 2016-07-28 02:42:13  Donald J. Trump 2016-07-28 00:14:05.273410   \n",
       "3 2016-07-28 02:39:07  Donald J. Trump 2016-07-28 00:14:05.273412   \n",
       "4 2016-07-28 00:01:31  Donald J. Trump 2016-07-28 00:14:05.273415   \n",
       "\n",
       "   retweet_count                                               text  \\\n",
       "0           2701  \"@trumplican2016: @realDonaldTrump @DavidWohl ...   \n",
       "1           3283  \"@DavidWohl: Barack is offended that @realDona...   \n",
       "2           9583  Our country does not feel 'great already' to t...   \n",
       "3          11009  Shooting deaths of police officers up 78% this...   \n",
       "4           3176  Join me live in Toledo, Ohio!\\n#MakeAmericaGre...   \n",
       "\n",
       "             tweet_id  \n",
       "0  758512401629192192  \n",
       "1  758511494669664256  \n",
       "2  758492727583576064  \n",
       "3  758491947409481728  \n",
       "4  758452289376022529  "
      ]
     },
     "execution_count": 13,
     "metadata": {},
     "output_type": "execute_result"
    }
   ],
   "source": [
    "all_tweets.head()"
   ]
  },
  {
   "cell_type": "markdown",
   "metadata": {},
   "source": [
    "## Preprocessing our Tweets\n",
    "\n",
    "In order to do classfication recall that we need a set of features.  Our features are literally what our presidential hopefulls say on Twitter. \n",
    "\n",
    "We will need to:\n",
    "- Vectorize input text data\n",
    "- Intialize a model (let's try Logistic regression)\n",
    "- Train / Predict / Cross Validate\n",
    "- Score / Evaluate\n"
   ]
  },
  {
   "cell_type": "code",
   "execution_count": 12,
   "metadata": {
    "collapsed": false
   },
   "outputs": [
    {
     "data": {
      "text/plain": [
       "LogisticRegression(C=1.0, class_weight=None, dual=False, fit_intercept=True,\n",
       "          intercept_scaling=1, max_iter=100, multi_class='ovr', n_jobs=1,\n",
       "          penalty='l2', random_state=None, solver='liblinear', tol=0.0001,\n",
       "          verbose=0, warm_start=False)"
      ]
     },
     "execution_count": 12,
     "metadata": {},
     "output_type": "execute_result"
    }
   ],
   "source": [
    "from sklearn.linear_model import LogisticRegression\n",
    "\n",
    "# Preprocess our text data to Tfidf\n",
    "tfv = TfidfVectorizer(lowercase=True, strip_accents='unicode')\n",
    "X_all = tfv.fit_transform(all_tweets['text'])\n",
    "\n",
    "# Setup logistic regression (or try another classification method here)\n",
    "estimator = LogisticRegression()\n",
    "estimator.fit(X_all, all_tweets['handle'])"
   ]
  },
  {
   "cell_type": "markdown",
   "metadata": {},
   "source": [
    "## Check Prediction vs Random Sanders Tweet"
   ]
  },
  {
   "cell_type": "code",
   "execution_count": 79,
   "metadata": {
    "collapsed": false
   },
   "outputs": [
    {
     "data": {
      "text/plain": [
       "array([[ 0.54453967,  0.45546033],\n",
       "       [ 0.34520049,  0.65479951]])"
      ]
     },
     "execution_count": 79,
     "metadata": {},
     "output_type": "execute_result"
    }
   ],
   "source": [
    "# Prep our source as TfIdf vectors\n",
    "source_test = [\n",
    "    \"Demanding that the wealthy and the powerful start paying their fair share of taxes that's exactly what the American people want.\",\n",
    "    \"Crooked Hillary is spending tremendous amounts of Wall Street money on false ads against me. She is a very dishonest person!\"\n",
    "]\n",
    "\n",
    "############\n",
    "# NOTE:  Do not re-initialize the tfidf vectorizor or the feature space willbe overwritten and\n",
    "# hence your transform will not match the number of features you trained your model on.\n",
    "#\n",
    "# This is why you only need to \"transform\" since you already \"fit\" previously\n",
    "#\n",
    "####\n",
    "\n",
    "X_all = tfv.transform(source_test)\n",
    "\n",
    "# Predict using previously trained logist regression `estimator`\n",
    "estimator.predict_proba(X_all)"
   ]
  },
  {
   "cell_type": "markdown",
   "metadata": {},
   "source": [
    "## Lab Time\n",
    "\n",
    "We would like you to perform an analysis using a proper cross validation.  Also, try classfication using other models."
   ]
  },
  {
   "cell_type": "markdown",
   "metadata": {},
   "source": [
    "### 1. Implement the same analysis using more data.\n",
    "\n",
    "Experiment with using more data.  The API may not like that you are blowing through their limits so definitely be careful.  Try to grab only what you need 1x, then work on the copy of the objects that are returned.  Read the documents about rate limits and see if you can get enough without hitting the rate limit.  Are there any options available in the API to avoid such a problem?"
   ]
  },
  {
   "cell_type": "code",
   "execution_count": null,
   "metadata": {
    "collapsed": true
   },
   "outputs": [],
   "source": []
  },
  {
   "cell_type": "markdown",
   "metadata": {},
   "source": [
    "### 2. Implement K-Folds or test/train split.\n",
    "\n",
    "Double check that you are getting random data before moving forward.  What would happen if you over sample Trump more than Sanders?"
   ]
  },
  {
   "cell_type": "code",
   "execution_count": null,
   "metadata": {
    "collapsed": true
   },
   "outputs": [],
   "source": []
  },
  {
   "cell_type": "markdown",
   "metadata": {},
   "source": [
    "### 3. Mine more Tweets that aren't in your data set\n",
    "Or use the hold-out method to do a proper test.  Refer back to our advanced classification evaluation lesson if you need to."
   ]
  },
  {
   "cell_type": "code",
   "execution_count": null,
   "metadata": {
    "collapsed": true
   },
   "outputs": [],
   "source": []
  },
  {
   "cell_type": "markdown",
   "metadata": {},
   "source": [
    "### 4. Check your classification report\n",
    "How's precision / recall of your model?"
   ]
  },
  {
   "cell_type": "code",
   "execution_count": null,
   "metadata": {
    "collapsed": true
   },
   "outputs": [],
   "source": []
  },
  {
   "cell_type": "markdown",
   "metadata": {},
   "source": [
    "### 5.  Change out your TFIDF vectorizer for CountVectorizer.\n",
    "How has this impacted your mode performance at all?"
   ]
  },
  {
   "cell_type": "code",
   "execution_count": null,
   "metadata": {
    "collapsed": true
   },
   "outputs": [],
   "source": []
  },
  {
   "cell_type": "markdown",
   "metadata": {},
   "source": [
    "### 6.  Implement a different classification method such as random forrests.\n",
    "Or pick one of your favorites"
   ]
  },
  {
   "cell_type": "code",
   "execution_count": null,
   "metadata": {
    "collapsed": true
   },
   "outputs": [],
   "source": []
  },
  {
   "cell_type": "markdown",
   "metadata": {},
   "source": [
    "### 7.  Try to remove stopwords from your text during your preprocessing step\n",
    "\n",
    "Then double check your classfication report.  Have things improved?"
   ]
  },
  {
   "cell_type": "code",
   "execution_count": null,
   "metadata": {
    "collapsed": true
   },
   "outputs": [],
   "source": []
  },
  {
   "cell_type": "markdown",
   "metadata": {},
   "source": [
    "### 8.  Try removing samples that have links or that are obviously just announcements or \"noise\" that doesn't appear to represent \"True\" tweets by the authors."
   ]
  },
  {
   "cell_type": "code",
   "execution_count": null,
   "metadata": {
    "collapsed": true
   },
   "outputs": [],
   "source": []
  },
  {
   "cell_type": "markdown",
   "metadata": {},
   "source": [
    "### 9. What are some contrasting words or phrases that you can see between the ngrams for each author?"
   ]
  },
  {
   "cell_type": "code",
   "execution_count": null,
   "metadata": {
    "collapsed": true
   },
   "outputs": [],
   "source": []
  },
  {
   "cell_type": "markdown",
   "metadata": {},
   "source": [
    "### 10.  What do you think you can do to improve the scores further?"
   ]
  },
  {
   "cell_type": "code",
   "execution_count": null,
   "metadata": {
    "collapsed": false
   },
   "outputs": [],
   "source": []
  },
  {
   "cell_type": "markdown",
   "metadata": {},
   "source": [
    "### 11. **BONUS** Using TextBlob, add a sentiment feature to your dataset."
   ]
  },
  {
   "cell_type": "code",
   "execution_count": 14,
   "metadata": {
    "collapsed": false
   },
   "outputs": [
    {
     "data": {
      "text/plain": [
       "WordList([u'@ trumplican2016', u'@ realdonaldtrump @', u'davidwohl', u'course mr trump', u'people'])"
      ]
     },
     "execution_count": 14,
     "metadata": {},
     "output_type": "execute_result"
    }
   ],
   "source": [
    "from textblob import TextBlob\n",
    "\n",
    "blob = TextBlob(trump_tweets[0]['text']) #from originally provided trump tweets\n",
    "blob.tags           \n",
    "blob.noun_phrases   "
   ]
  },
  {
   "cell_type": "code",
   "execution_count": 15,
   "metadata": {
    "collapsed": false
   },
   "outputs": [
    {
     "name": "stdout",
     "output_type": "stream",
     "text": [
      "0.0\n"
     ]
    },
    {
     "data": {
      "text/plain": [
       "TextBlob(\"\"@ Trumplican2016: @realDonaldTrump @DavidWohl pasar la trompeta por supuesto mr su mensaje está resonando con el pueblo\"\")"
      ]
     },
     "execution_count": 15,
     "metadata": {},
     "output_type": "execute_result"
    }
   ],
   "source": [
    "for sentence in blob.sentences:\n",
    "    print(sentence.sentiment.polarity)\n",
    "\n",
    "blob.translate(to=\"es\")  # 'La amenaza titular de The Blob...'"
   ]
  },
  {
   "cell_type": "markdown",
   "metadata": {},
   "source": [
    "### 12. BONUS BONUS Apply PCA to your text features\n",
    "Is this effective? (ie: we could talk about LDA here a little bit)"
   ]
  },
  {
   "cell_type": "code",
   "execution_count": null,
   "metadata": {
    "collapsed": true
   },
   "outputs": [],
   "source": []
  },
  {
   "cell_type": "markdown",
   "metadata": {},
   "source": [
    "## Closing\n",
    "\n",
    "- What where the most impactful changes that helped your models?\n",
    "- What do you think would happen if we had more Trump Tweets than Sanders?\n",
    "- What other projects might you think to apply these problems against?"
   ]
  }
 ],
 "metadata": {
  "kernelspec": {
   "display_name": "Python 2",
   "language": "python",
   "name": "python2"
  },
  "language_info": {
   "codemirror_mode": {
    "name": "ipython",
    "version": 2
   },
   "file_extension": ".py",
   "mimetype": "text/x-python",
   "name": "python",
   "nbconvert_exporter": "python",
   "pygments_lexer": "ipython2",
   "version": "2.7.5"
  },
  "widgets": {
   "state": {},
   "version": "1.1.0"
  }
 },
 "nbformat": 4,
 "nbformat_minor": 0
}
