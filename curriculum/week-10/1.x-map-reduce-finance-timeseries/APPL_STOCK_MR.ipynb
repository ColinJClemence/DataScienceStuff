{
 "cells": [
  {
   "cell_type": "markdown",
   "metadata": {},
   "source": [
    "---\n",
    "title: Map Reduce Finance Time Series Lab\n",
    "duration: \"1:25\"\n",
    "creator:\n",
    "    name: Pauline Chow & John Marin\n",
    "    city: LA\n",
    "---"
   ]
  },
  {
   "cell_type": "markdown",
   "metadata": {},
   "source": [
    "# ![](https://ga-dash.s3.amazonaws.com/production/assets/logo-9f88ae6c9c3871690e33280fcf557f33.png) \n",
    "# Map Reduce Finance Time Series Lab\n",
    "Week 11 | Lab 1.3 "
   ]
  },
  {
   "cell_type": "code",
   "execution_count": 2,
   "metadata": {
    "collapsed": false
   },
   "outputs": [
    {
     "name": "stderr",
     "output_type": "stream",
     "text": [
      "/home/ubuntu/anaconda2/lib/python2.7/site-packages/ipykernel/__main__.py:12: FutureWarning: convert_objects is deprecated.  Use the data-type specific converters pd.to_datetime, pd.to_timedelta and pd.to_numeric.\n",
      "/home/ubuntu/anaconda2/lib/python2.7/site-packages/ipykernel/__main__.py:13: FutureWarning: by argument to sort_index is deprecated, pls use .sort_values(by=...)\n"
     ]
    }
   ],
   "source": [
    "%matplotlib inline\n",
    "import os  \n",
    "import numpy as np  \n",
    "import pandas as pd  \n",
    "import matplotlib.pyplot as plt  \n",
    "import statsmodels.api as sm  \n",
    "import seaborn as sb  \n",
    "sb.set_style('darkgrid')\n",
    "\n",
    "#Download data for APPLE STOCK\n",
    "appl = pd.read_csv(\"http://chart.finance.yahoo.com/table.csv?s=AAPL&a=7&b=4&c=2010&d=7&e=4&f=2016&g=d&ignore=.csv\")\n",
    "appl['Date'] = appl['Date'].convert_objects(convert_dates='coerce')  \n",
    "appl = appl.sort_index(by='Date')  \n",
    "appl = appl.set_index('Date')  "
   ]
  },
  {
   "cell_type": "code",
   "execution_count": 2,
   "metadata": {
    "collapsed": false
   },
   "outputs": [
    {
     "data": {
      "text/html": [
       "<div>\n",
       "<table border=\"1\" class=\"dataframe\">\n",
       "  <thead>\n",
       "    <tr style=\"text-align: right;\">\n",
       "      <th></th>\n",
       "      <th>Open</th>\n",
       "      <th>High</th>\n",
       "      <th>Low</th>\n",
       "      <th>Close</th>\n",
       "      <th>Volume</th>\n",
       "      <th>Adj Close</th>\n",
       "    </tr>\n",
       "    <tr>\n",
       "      <th>Date</th>\n",
       "      <th></th>\n",
       "      <th></th>\n",
       "      <th></th>\n",
       "      <th></th>\n",
       "      <th></th>\n",
       "      <th></th>\n",
       "    </tr>\n",
       "  </thead>\n",
       "  <tbody>\n",
       "    <tr>\n",
       "      <th>2010-08-04</th>\n",
       "      <td>262.840008</td>\n",
       "      <td>264.279987</td>\n",
       "      <td>260.309990</td>\n",
       "      <td>262.980011</td>\n",
       "      <td>105093800</td>\n",
       "      <td>34.394982</td>\n",
       "    </tr>\n",
       "    <tr>\n",
       "      <th>2010-08-05</th>\n",
       "      <td>261.729996</td>\n",
       "      <td>263.179989</td>\n",
       "      <td>260.549995</td>\n",
       "      <td>261.700008</td>\n",
       "      <td>72274300</td>\n",
       "      <td>34.227571</td>\n",
       "    </tr>\n",
       "    <tr>\n",
       "      <th>2010-08-06</th>\n",
       "      <td>259.779991</td>\n",
       "      <td>261.489990</td>\n",
       "      <td>257.630009</td>\n",
       "      <td>260.090012</td>\n",
       "      <td>111224400</td>\n",
       "      <td>34.017001</td>\n",
       "    </tr>\n",
       "    <tr>\n",
       "      <th>2010-08-09</th>\n",
       "      <td>261.480003</td>\n",
       "      <td>262.150005</td>\n",
       "      <td>259.570000</td>\n",
       "      <td>261.749996</td>\n",
       "      <td>75782000</td>\n",
       "      <td>34.234109</td>\n",
       "    </tr>\n",
       "    <tr>\n",
       "      <th>2010-08-10</th>\n",
       "      <td>259.850006</td>\n",
       "      <td>260.449993</td>\n",
       "      <td>257.550007</td>\n",
       "      <td>259.409996</td>\n",
       "      <td>112980000</td>\n",
       "      <td>33.928062</td>\n",
       "    </tr>\n",
       "  </tbody>\n",
       "</table>\n",
       "</div>"
      ],
      "text/plain": [
       "                  Open        High         Low       Close     Volume  \\\n",
       "Date                                                                    \n",
       "2010-08-04  262.840008  264.279987  260.309990  262.980011  105093800   \n",
       "2010-08-05  261.729996  263.179989  260.549995  261.700008   72274300   \n",
       "2010-08-06  259.779991  261.489990  257.630009  260.090012  111224400   \n",
       "2010-08-09  261.480003  262.150005  259.570000  261.749996   75782000   \n",
       "2010-08-10  259.850006  260.449993  257.550007  259.409996  112980000   \n",
       "\n",
       "            Adj Close  \n",
       "Date                   \n",
       "2010-08-04  34.394982  \n",
       "2010-08-05  34.227571  \n",
       "2010-08-06  34.017001  \n",
       "2010-08-09  34.234109  \n",
       "2010-08-10  33.928062  "
      ]
     },
     "execution_count": 2,
     "metadata": {},
     "output_type": "execute_result"
    }
   ],
   "source": [
    "appl.head()"
   ]
  },
  {
   "cell_type": "code",
   "execution_count": 25,
   "metadata": {
    "collapsed": false
   },
   "outputs": [
    {
     "name": "stdout",
     "output_type": "stream",
     "text": [
      "                  High       Close     Volume        Open         Low\n",
      "Date                                                                 \n",
      "2010-08-06  264.279987  260.090012  288592500  262.840008  257.630009\n",
      "2010-08-13  262.150005  249.099987  566223000  261.480003  246.119999\n",
      "2010-08-20  254.669994  249.639999  472925600  247.580006  246.620010\n",
      "2010-08-27  252.000000  241.620003  657092800  251.790009  235.559998\n",
      "2010-09-03  258.779995  258.770008  609332500  240.760010  240.349987\n"
     ]
    },
    {
     "name": "stderr",
     "output_type": "stream",
     "text": [
      "/home/ubuntu/anaconda2/lib/python2.7/site-packages/ipykernel/__main__.py:9: FutureWarning: how in .resample() is deprecated\n",
      "the new syntax is .resample(...)..apply(<func>)\n"
     ]
    }
   ],
   "source": [
    " ohlc_dict = {\n",
    "    'Open':'first',\n",
    "    'High':'max',\n",
    "    'Low':'min',\n",
    "    'Close':'last',\n",
    "    'Volume':'sum'\n",
    "    }\n",
    "\n",
    "appl_re = appl.resample('W-Fri', how=ohlc_dict)\n",
    "print appl_re.head()"
   ]
  },
  {
   "cell_type": "code",
   "execution_count": null,
   "metadata": {
    "collapsed": false
   },
   "outputs": [],
   "source": [
    "#This takes a few minutes so commented out\n",
    "# appl_all = pd.DataFrame()\n",
    "# for c in appl.columns:\n",
    "#     appl_all[c] = appl[c].resample('1T').max()\n",
    "    \n",
    "# print appl_all.head()"
   ]
  },
  {
   "cell_type": "code",
   "execution_count": 21,
   "metadata": {
    "collapsed": false
   },
   "outputs": [
    {
     "name": "stderr",
     "output_type": "stream",
     "text": [
      "/home/ubuntu/anaconda2/lib/python2.7/site-packages/ipykernel/__main__.py:6: FutureWarning: how in .resample() is deprecated\n",
      "the new syntax is .resample(...).mean()\n"
     ]
    },
    {
     "name": "stdout",
     "output_type": "stream",
     "text": [
      "Date\n",
      "2010-08-04 00:00:00    262.840008\n",
      "2010-08-04 00:01:00           NaN\n",
      "2010-08-04 00:02:00           NaN\n",
      "2010-08-04 00:03:00           NaN\n",
      "2010-08-04 00:04:00           NaN\n",
      "Freq: T, Name: Open, dtype: float64\n",
      "Date\n",
      "2010-08-04 00:00:00    264.279987\n",
      "2010-08-04 00:01:00           NaN\n",
      "2010-08-04 00:02:00           NaN\n",
      "2010-08-04 00:03:00           NaN\n",
      "2010-08-04 00:04:00           NaN\n",
      "Freq: T, Name: High, dtype: float64\n",
      "Date\n",
      "2010-08-04 00:00:00    260.30999\n",
      "2010-08-04 00:01:00          NaN\n",
      "2010-08-04 00:02:00          NaN\n",
      "2010-08-04 00:03:00          NaN\n",
      "2010-08-04 00:04:00          NaN\n",
      "Freq: T, Name: Low, dtype: float64\n",
      "Date\n",
      "2010-08-04 00:00:00    262.980011\n",
      "2010-08-04 00:01:00           NaN\n",
      "2010-08-04 00:02:00           NaN\n",
      "2010-08-04 00:03:00           NaN\n",
      "2010-08-04 00:04:00           NaN\n",
      "Freq: T, Name: Close, dtype: float64\n",
      "Date\n",
      "2010-08-04 00:00:00    105093800.0\n",
      "2010-08-04 00:01:00            NaN\n",
      "2010-08-04 00:02:00            NaN\n",
      "2010-08-04 00:03:00            NaN\n",
      "2010-08-04 00:04:00            NaN\n",
      "Freq: T, Name: Volume, dtype: float64\n",
      "Date\n",
      "2010-08-04 00:00:00    34.394982\n",
      "2010-08-04 00:01:00          NaN\n",
      "2010-08-04 00:02:00          NaN\n",
      "2010-08-04 00:03:00          NaN\n",
      "2010-08-04 00:04:00          NaN\n",
      "Freq: T, Name: Adj Close, dtype: float64\n",
      "Empty DataFrame\n",
      "Columns: []\n",
      "Index: []\n"
     ]
    }
   ],
   "source": [
    "#create resampled time series\n",
    "appl_all = pd.DataFrame()\n",
    "for c in appl.columns: \n",
    "    appl_tmp = appl[c]\n",
    "    appl_tmp = pd.Series(appl_tmp)\n",
    "    appl_tmp = appl_tmp.resample('1T', how='mean')\n",
    "    print appl_tmp.head()\n",
    "    \n",
    "    pd.concat([appl_all, appl_tmp])\n",
    "\n",
    "print appl_all.head()"
   ]
  },
  {
   "cell_type": "code",
   "execution_count": 4,
   "metadata": {
    "collapsed": false
   },
   "outputs": [
    {
     "data": {
      "text/plain": [
       "Date\n",
       "2010-08-04    34.394982\n",
       "2010-08-05    34.227571\n",
       "2010-08-06    34.017001\n",
       "2010-08-09    34.234109\n",
       "2010-08-10    33.928062\n",
       "Name: Adj Close, dtype: float64"
      ]
     },
     "execution_count": 4,
     "metadata": {},
     "output_type": "execute_result"
    }
   ],
   "source": [
    "#create resampled time series for just one columns\n",
    "# appl_series = appl['Adj Close']\n",
    "# appl_series = pd.Series(appl_series)\n",
    "# appl_series.head()"
   ]
  },
  {
   "cell_type": "code",
   "execution_count": 17,
   "metadata": {
    "collapsed": false
   },
   "outputs": [
    {
     "name": "stderr",
     "output_type": "stream",
     "text": [
      "/home/ubuntu/anaconda2/lib/python2.7/site-packages/ipykernel/__main__.py:1: FutureWarning: how in .resample() is deprecated\n",
      "the new syntax is .resample(...).mean()\n",
      "  if __name__ == '__main__':\n"
     ]
    },
    {
     "data": {
      "text/plain": [
       "Date\n",
       "2010-08-04 00:00:00    34.394982\n",
       "2010-08-04 00:01:00          NaN\n",
       "2010-08-04 00:02:00          NaN\n",
       "2010-08-04 00:03:00          NaN\n",
       "2010-08-04 00:04:00          NaN\n",
       "Freq: T, Name: Adj Close, dtype: float64"
      ]
     },
     "execution_count": 17,
     "metadata": {},
     "output_type": "execute_result"
    }
   ],
   "source": [
    "# resample and run data examples. This takes a few minutes so commented out\n",
    "appl_series_re = appl_series.resample('1T', how='mean')\n",
    "appl_series_re.head()\n",
    "appl_series_re.to_csv('Yahoo_APPL_resampled.csv')"
   ]
  },
  {
   "cell_type": "markdown",
   "metadata": {},
   "source": [
    "The following mapper.py and reducer.py will be run from your command line. Can you summarize what the mapper and reducer are doing?"
   ]
  },
  {
   "cell_type": "code",
   "execution_count": 19,
   "metadata": {
    "collapsed": true
   },
   "outputs": [],
   "source": [
    "#!/usr/bin/env python\n",
    "\n",
    "#Baseline code from https://github.com/ameyb/hadoop-mapreduce-financial-analytics\n",
    "#mapper.py\n",
    "# uses\n",
    "#Time range min and max\n",
    "\n",
    "import sys\n",
    "from datetime import datetime,date,timedelta\n",
    "\n",
    "def read_input_line():\n",
    "\tfor line in sys.stdin:\n",
    "\t\tyield line\n",
    "\n",
    "def main():\n",
    "\ttry:\n",
    "\t\tdate_range_start = datetime.strptime(sys.argv[1], \"%Y-%m-%d\").date()\n",
    "\t\tdate_range_end = datetime.strptime(sys.argv[2], \"%Y-%m-%d\").date()\n",
    "\texcept:\n",
    "\t\tdate_range_end = date.today()\n",
    "\t\tdate_range_start = date_range_end - timedelta(days=7*52) \n",
    "\t\n",
    "\t\n",
    "\t#print date_range_start,  date_range_end\n",
    "\t\n",
    "\tstocks = {}\n",
    "\tfor line in read_input_line():\n",
    "\t\tline = line.strip()\n",
    "\t\trecords = line.split(',')\n",
    "\t\ttry:\n",
    "\t\t\tstock = str(records[1])\n",
    "\t\t\tdate_close = datetime.strptime(records[2], \"%Y-%m-%d\").date()\n",
    "\t\t\tprice_close = float(records[6])\n",
    "\t\texcept ValueError:\n",
    "\t\t\t#print 'data error : ', records\n",
    "\t\t\tcontinue\n",
    "\t\tif date_close < date_range_start or date_close > date_range_end:\n",
    "\t\t\tcontinue\n",
    "\t\tif stock in stocks:\n",
    "\t\t\tstocks[stock][\"price_close_min\"] = min(stocks[stock][\"price_close_min\"], price_close)\n",
    "\t\t\tstocks[stock][\"price_close_max\"] = max(stocks[stock][\"price_close_min\"], price_close)\n",
    "\t\telse:\n",
    "\t\t\tstocks[stock] = {\n",
    "\t\t\t\t\t\"price_close_min\": price_close,\n",
    "\t\t\t\t\t\"price_close_max\": price_close,\n",
    "\t\t\t\t\t}\n",
    "\t\n",
    "\tfor stock in stocks:\n",
    "\t\tprint \"%s\\t%s\" %(stock,stocks[stock][\"price_close_min\"])\n",
    "\t\tprint \"%s\\t%s\" %(stock,stocks[stock][\"price_close_max\"])\n",
    "\n",
    "\n",
    "\n",
    "if __name__ == \"__main__\":\n",
    "    main()"
   ]
  },
  {
   "cell_type": "code",
   "execution_count": 20,
   "metadata": {
    "collapsed": true
   },
   "outputs": [],
   "source": [
    "#!/usr/bin/env python\n",
    "\n",
    "#Baseline code from https://github.com/ameyb/hadoop-mapreduce-financial-analytics\n",
    "#reducer.py\n",
    "#Time range min and max\n",
    "\n",
    "\n",
    "import sys\n",
    "from datetime import datetime,date,timedelta\n",
    "\n",
    "def read_input_line():\n",
    "        for line in sys.stdin:\n",
    "                yield line\n",
    "\n",
    "def main():\n",
    "\t\n",
    "\t\n",
    "\tstocks = {}\n",
    "\tfor line in read_input_line():\n",
    "\t\tline = line.strip()\n",
    "\t\trecords = line.split('\\t')\n",
    "\t\ttry:\n",
    "\t\t\tstock = str(records[0])\n",
    "\t\t\tprice = float(records[1])\n",
    "\t\texcept ValueError:\n",
    "\t\t\t#print 'data error : ', records\n",
    "\t\t\tcontinue\n",
    "\t\tif stock in stocks:\n",
    "\t\t\tstocks[stock][\"price_close_min\"] = min(stocks[stock][\"price_close_min\"], price)\n",
    "\t\t\tstocks[stock][\"price_close_max\"] = max(stocks[stock][\"price_close_min\"], price)\n",
    "\t\telse:\n",
    "\t\t\tstocks[stock] = {\n",
    "\t\t\t\t\t\"price_close_min\": price,\n",
    "\t\t\t\t\t\"price_close_max\": price,\n",
    "\t\t\t\t\t}\n",
    "\t\n",
    "\tfor stock in stocks:\n",
    "\t\tprint \"%s\\t%s\" %(stock,stocks[stock][\"price_close_min\"])\n",
    "\t\tprint \"%s\\t%s\" %(stock,stocks[stock][\"price_close_max\"])\n",
    "\n",
    "\n",
    "\n",
    "if __name__ == \"__main__\":\n",
    "    main()\n"
   ]
  },
  {
   "cell_type": "markdown",
   "metadata": {
    "collapsed": true
   },
   "source": [
    "Run the following command in the command line: \n",
    "\n",
    "```\n",
    "cat input_appl_stock.txt | python mapper.py | sort -k1,1 | python reducer.py > output_appl_ts.txt\n",
    "```"
   ]
  },
  {
   "cell_type": "code",
   "execution_count": null,
   "metadata": {
    "collapsed": true
   },
   "outputs": [],
   "source": []
  }
 ],
 "metadata": {
  "kernelspec": {
   "display_name": "Python 2",
   "language": "python",
   "name": "python2"
  },
  "language_info": {
   "codemirror_mode": {
    "name": "ipython",
    "version": 2
   },
   "file_extension": ".py",
   "mimetype": "text/x-python",
   "name": "python",
   "nbconvert_exporter": "python",
   "pygments_lexer": "ipython2",
   "version": "2.7.12"
  }
 },
 "nbformat": 4,
 "nbformat_minor": 0
}
