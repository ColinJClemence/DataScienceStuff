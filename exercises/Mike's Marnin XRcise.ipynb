{
 "cells": [
  {
   "cell_type": "code",
   "execution_count": null,
   "metadata": {
    "collapsed": false
   },
   "outputs": [],
   "source": [
    "You get a \"text\" and have to shift the vowels by \"n\" positions to the right.\n",
    "(Negative value for n should shift to the left.)\n",
    "\"Position\" means the vowel's position if taken as one item in a list of all vowels within the string.\n",
    "A shift by 1 would mean, that every vowel shifts to the place of the next vowel.\n",
    "\n",
    "Shifting over the edges of the text should continue at the other edge.\n",
    "\n",
    "Example:\n",
    "\n",
    "text = \"This is a test!\"\n",
    "n = 1\n",
    "output = \"Thes is i tast!\"\n",
    "\n",
    "text = \"This is a test!\"\n",
    "n = 3\n",
    "output = \"This as e tist!\"\n",
    "\n",
    "If text is null or empty return exactly this value.\n",
    "Vowels are \"a,e,i,o,u\"."
   ]
  },
  {
   "cell_type": "code",
   "execution_count": null,
   "metadata": {
    "collapsed": true
   },
   "outputs": [],
   "source": [
    "\n",
    "                \n",
    "            "
   ]
  }
 ],
 "metadata": {
  "kernelspec": {
   "display_name": "Python 2",
   "language": "python",
   "name": "python2"
  },
  "language_info": {
   "codemirror_mode": {
    "name": "ipython",
    "version": 2
   },
   "file_extension": ".py",
   "mimetype": "text/x-python",
   "name": "python",
   "nbconvert_exporter": "python",
   "pygments_lexer": "ipython2",
   "version": "2.7.11"
  }
 },
 "nbformat": 4,
 "nbformat_minor": 0
}
